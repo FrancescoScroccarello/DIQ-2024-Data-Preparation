{
 "cells": [
  {
   "cell_type": "markdown",
   "metadata": {},
   "source": [
    "## IMPORTS"
   ]
  },
  {
   "cell_type": "code",
   "execution_count": 12,
   "metadata": {},
   "outputs": [],
   "source": [
    "import pandas as pd\n",
    "import numpy as np"
   ]
  },
  {
   "cell_type": "markdown",
   "metadata": {},
   "source": [
    "## DATA EXPLORATION"
   ]
  },
  {
   "cell_type": "code",
   "execution_count": 5,
   "metadata": {},
   "outputs": [
    {
     "data": {
      "text/html": [
       "<div>\n",
       "<style scoped>\n",
       "    .dataframe tbody tr th:only-of-type {\n",
       "        vertical-align: middle;\n",
       "    }\n",
       "\n",
       "    .dataframe tbody tr th {\n",
       "        vertical-align: top;\n",
       "    }\n",
       "\n",
       "    .dataframe thead th {\n",
       "        text-align: right;\n",
       "    }\n",
       "</style>\n",
       "<table border=\"1\" class=\"dataframe\">\n",
       "  <thead>\n",
       "    <tr style=\"text-align: right;\">\n",
       "      <th></th>\n",
       "      <th>Settore Merceologico</th>\n",
       "      <th>Insegna</th>\n",
       "      <th>Ubicazione</th>\n",
       "      <th>Tipo via</th>\n",
       "      <th>Via</th>\n",
       "      <th>Civico</th>\n",
       "      <th>Codice via</th>\n",
       "      <th>ZD</th>\n",
       "      <th>Settore Storico Cf Preval</th>\n",
       "      <th>Superficie Vendita</th>\n",
       "      <th>Superficie Altri Usi</th>\n",
       "      <th>Superficie Tabelle Speciali</th>\n",
       "      <th>Superficie Totale</th>\n",
       "    </tr>\n",
       "  </thead>\n",
       "  <tbody>\n",
       "    <tr>\n",
       "      <th>0</th>\n",
       "      <td>NaN</td>\n",
       "      <td>NaN</td>\n",
       "      <td>CSO ITALIA N. 34 (z.d. 1)</td>\n",
       "      <td>CSO</td>\n",
       "      <td>ITALIA</td>\n",
       "      <td>34</td>\n",
       "      <td>526</td>\n",
       "      <td>1.0</td>\n",
       "      <td>speciale panificatori</td>\n",
       "      <td>0.0</td>\n",
       "      <td>NaN</td>\n",
       "      <td>NaN</td>\n",
       "      <td>0.0</td>\n",
       "    </tr>\n",
       "    <tr>\n",
       "      <th>1</th>\n",
       "      <td>NaN</td>\n",
       "      <td>NaN</td>\n",
       "      <td>CSO LODI N. 104 (z.d. 4)</td>\n",
       "      <td>CSO</td>\n",
       "      <td>LODI</td>\n",
       "      <td>104</td>\n",
       "      <td>4068</td>\n",
       "      <td>4.0</td>\n",
       "      <td>NaN</td>\n",
       "      <td>16.0</td>\n",
       "      <td>5.0</td>\n",
       "      <td>NaN</td>\n",
       "      <td>21.0</td>\n",
       "    </tr>\n",
       "    <tr>\n",
       "      <th>2</th>\n",
       "      <td>NaN</td>\n",
       "      <td>NaN</td>\n",
       "      <td>CSO LODI N. 26 (z.d. 5)</td>\n",
       "      <td>CSO</td>\n",
       "      <td>LODI</td>\n",
       "      <td>26</td>\n",
       "      <td>4068</td>\n",
       "      <td>5.0</td>\n",
       "      <td>speciale panificatori</td>\n",
       "      <td>0.0</td>\n",
       "      <td>NaN</td>\n",
       "      <td>NaN</td>\n",
       "      <td>0.0</td>\n",
       "    </tr>\n",
       "    <tr>\n",
       "      <th>3</th>\n",
       "      <td>NaN</td>\n",
       "      <td>NaN</td>\n",
       "      <td>CSO SEMPIONE N. 41 (z.d. 6)</td>\n",
       "      <td>CSO</td>\n",
       "      <td>SEMPIONE</td>\n",
       "      <td>41</td>\n",
       "      <td>7137</td>\n",
       "      <td>8.0</td>\n",
       "      <td>NaN</td>\n",
       "      <td>120.0</td>\n",
       "      <td>NaN</td>\n",
       "      <td>NaN</td>\n",
       "      <td>120.0</td>\n",
       "    </tr>\n",
       "    <tr>\n",
       "      <th>4</th>\n",
       "      <td>NaN</td>\n",
       "      <td>NaN</td>\n",
       "      <td>LGO SCALABRINI GIOVANNI BATTISTA N. 2 (z.d. 6)</td>\n",
       "      <td>LGO</td>\n",
       "      <td>SCALABRINI GIOVANNI BATTISTA</td>\n",
       "      <td>2</td>\n",
       "      <td>5392</td>\n",
       "      <td>6.0</td>\n",
       "      <td>NaN</td>\n",
       "      <td>0.0</td>\n",
       "      <td>NaN</td>\n",
       "      <td>NaN</td>\n",
       "      <td>0.0</td>\n",
       "    </tr>\n",
       "    <tr>\n",
       "      <th>...</th>\n",
       "      <td>...</td>\n",
       "      <td>...</td>\n",
       "      <td>...</td>\n",
       "      <td>...</td>\n",
       "      <td>...</td>\n",
       "      <td>...</td>\n",
       "      <td>...</td>\n",
       "      <td>...</td>\n",
       "      <td>...</td>\n",
       "      <td>...</td>\n",
       "      <td>...</td>\n",
       "      <td>...</td>\n",
       "      <td>...</td>\n",
       "    </tr>\n",
       "    <tr>\n",
       "      <th>24131</th>\n",
       "      <td>Tabella speciale Monopolio;Alimentare</td>\n",
       "      <td>NaN</td>\n",
       "      <td>RIP DI PTA TICINESE N. 61 ; isolato:071; acces...</td>\n",
       "      <td>RIP</td>\n",
       "      <td>DI PTA TICINESE</td>\n",
       "      <td>61</td>\n",
       "      <td>5150</td>\n",
       "      <td>6.0</td>\n",
       "      <td>cartoleria cancelleria</td>\n",
       "      <td>25.0</td>\n",
       "      <td>27.0</td>\n",
       "      <td>21.0</td>\n",
       "      <td>52.0</td>\n",
       "    </tr>\n",
       "    <tr>\n",
       "      <th>24132</th>\n",
       "      <td>Tabella speciale Monopolio;Alimentare;Non Alim...</td>\n",
       "      <td>i.p.</td>\n",
       "      <td>VIA GALVANI LUIGI N. 34 ; isolato:238; accesso...</td>\n",
       "      <td>VIA</td>\n",
       "      <td>GALVANI LUIGI</td>\n",
       "      <td>34</td>\n",
       "      <td>1179</td>\n",
       "      <td>2.0</td>\n",
       "      <td>carburanti e lubrificanti</td>\n",
       "      <td>45.0</td>\n",
       "      <td>NaN</td>\n",
       "      <td>NaN</td>\n",
       "      <td>60.0</td>\n",
       "    </tr>\n",
       "    <tr>\n",
       "      <th>24133</th>\n",
       "      <td>tabella speciale monopolio;non alimentare</td>\n",
       "      <td>tabacchi noli</td>\n",
       "      <td>VIA MARINO TOMMASO N. 7 ;gll vittorio emanuele...</td>\n",
       "      <td>VIA</td>\n",
       "      <td>MARINO TOMMASO</td>\n",
       "      <td>7</td>\n",
       "      <td>204</td>\n",
       "      <td>1.0</td>\n",
       "      <td>articoli per fumatori</td>\n",
       "      <td>28.0</td>\n",
       "      <td>12.0</td>\n",
       "      <td>NaN</td>\n",
       "      <td>40.0</td>\n",
       "    </tr>\n",
       "    <tr>\n",
       "      <th>24134</th>\n",
       "      <td>Tabella speciale Monopolio;Non Alimentare</td>\n",
       "      <td>NaN</td>\n",
       "      <td>VIA ASELLI GASPARE N. 11 (z.d. 3)</td>\n",
       "      <td>VIA</td>\n",
       "      <td>ASELLI GASPARE</td>\n",
       "      <td>11</td>\n",
       "      <td>3167</td>\n",
       "      <td>3.0</td>\n",
       "      <td>commercio al dettaglio</td>\n",
       "      <td>7.0</td>\n",
       "      <td>125.0</td>\n",
       "      <td>5.0</td>\n",
       "      <td>132.0</td>\n",
       "    </tr>\n",
       "    <tr>\n",
       "      <th>24135</th>\n",
       "      <td>Tabella speciale Monopolio;Non Alimentare</td>\n",
       "      <td>NaN</td>\n",
       "      <td>VLE MONTE GRAPPA N. 2 (z.d. 9)</td>\n",
       "      <td>VLE</td>\n",
       "      <td>MONTE GRAPPA</td>\n",
       "      <td>2</td>\n",
       "      <td>1101</td>\n",
       "      <td>9.0</td>\n",
       "      <td>COMMERCIO AL DETTAGLIO</td>\n",
       "      <td>8.0</td>\n",
       "      <td>4.0</td>\n",
       "      <td>4.0</td>\n",
       "      <td>12.0</td>\n",
       "    </tr>\n",
       "  </tbody>\n",
       "</table>\n",
       "<p>24136 rows × 13 columns</p>\n",
       "</div>"
      ],
      "text/plain": [
       "                                    Settore Merceologico        Insegna   \n",
       "0                                                    NaN            NaN  \\\n",
       "1                                                    NaN            NaN   \n",
       "2                                                    NaN            NaN   \n",
       "3                                                    NaN            NaN   \n",
       "4                                                    NaN            NaN   \n",
       "...                                                  ...            ...   \n",
       "24131              Tabella speciale Monopolio;Alimentare            NaN   \n",
       "24132  Tabella speciale Monopolio;Alimentare;Non Alim...           i.p.   \n",
       "24133          tabella speciale monopolio;non alimentare  tabacchi noli   \n",
       "24134          Tabella speciale Monopolio;Non Alimentare            NaN   \n",
       "24135          Tabella speciale Monopolio;Non Alimentare            NaN   \n",
       "\n",
       "                                              Ubicazione Tipo via   \n",
       "0                              CSO ITALIA N. 34 (z.d. 1)      CSO  \\\n",
       "1                               CSO LODI N. 104 (z.d. 4)      CSO   \n",
       "2                                CSO LODI N. 26 (z.d. 5)      CSO   \n",
       "3                            CSO SEMPIONE N. 41 (z.d. 6)      CSO   \n",
       "4         LGO SCALABRINI GIOVANNI BATTISTA N. 2 (z.d. 6)      LGO   \n",
       "...                                                  ...      ...   \n",
       "24131  RIP DI PTA TICINESE N. 61 ; isolato:071; acces...      RIP   \n",
       "24132  VIA GALVANI LUIGI N. 34 ; isolato:238; accesso...      VIA   \n",
       "24133  VIA MARINO TOMMASO N. 7 ;gll vittorio emanuele...      VIA   \n",
       "24134                  VIA ASELLI GASPARE N. 11 (z.d. 3)      VIA   \n",
       "24135                     VLE MONTE GRAPPA N. 2 (z.d. 9)      VLE   \n",
       "\n",
       "                                Via Civico Codice via   ZD   \n",
       "0                            ITALIA     34        526  1.0  \\\n",
       "1                              LODI    104       4068  4.0   \n",
       "2                              LODI     26       4068  5.0   \n",
       "3                          SEMPIONE     41       7137  8.0   \n",
       "4      SCALABRINI GIOVANNI BATTISTA      2       5392  6.0   \n",
       "...                             ...    ...        ...  ...   \n",
       "24131               DI PTA TICINESE     61       5150  6.0   \n",
       "24132                 GALVANI LUIGI     34       1179  2.0   \n",
       "24133                MARINO TOMMASO      7        204  1.0   \n",
       "24134                ASELLI GASPARE     11       3167  3.0   \n",
       "24135                  MONTE GRAPPA      2       1101  9.0   \n",
       "\n",
       "       Settore Storico Cf Preval  Superficie Vendita  Superficie Altri Usi   \n",
       "0          speciale panificatori                 0.0                   NaN  \\\n",
       "1                            NaN                16.0                   5.0   \n",
       "2          speciale panificatori                 0.0                   NaN   \n",
       "3                            NaN               120.0                   NaN   \n",
       "4                            NaN                 0.0                   NaN   \n",
       "...                          ...                 ...                   ...   \n",
       "24131     cartoleria cancelleria                25.0                  27.0   \n",
       "24132  carburanti e lubrificanti                45.0                   NaN   \n",
       "24133      articoli per fumatori                28.0                  12.0   \n",
       "24134     commercio al dettaglio                 7.0                 125.0   \n",
       "24135     COMMERCIO AL DETTAGLIO                 8.0                   4.0   \n",
       "\n",
       "       Superficie Tabelle Speciali  Superficie Totale  \n",
       "0                              NaN                0.0  \n",
       "1                              NaN               21.0  \n",
       "2                              NaN                0.0  \n",
       "3                              NaN              120.0  \n",
       "4                              NaN                0.0  \n",
       "...                            ...                ...  \n",
       "24131                         21.0               52.0  \n",
       "24132                          NaN               60.0  \n",
       "24133                          NaN               40.0  \n",
       "24134                          5.0              132.0  \n",
       "24135                          4.0               12.0  \n",
       "\n",
       "[24136 rows x 13 columns]"
      ]
     },
     "execution_count": 5,
     "metadata": {},
     "output_type": "execute_result"
    }
   ],
   "source": [
    "df = pd.read_csv(\"Dirty_dataset.csv\",sep=';',encoding='unicode_escape')\n",
    "df"
   ]
  },
  {
   "cell_type": "code",
   "execution_count": 6,
   "metadata": {},
   "outputs": [
    {
     "data": {
      "text/plain": [
       "(24136, 13)"
      ]
     },
     "execution_count": 6,
     "metadata": {},
     "output_type": "execute_result"
    }
   ],
   "source": [
    "df.shape"
   ]
  },
  {
   "cell_type": "code",
   "execution_count": 7,
   "metadata": {},
   "outputs": [
    {
     "data": {
      "text/plain": [
       "Index(['Settore Merceologico', 'Insegna', 'Ubicazione', 'Tipo via', 'Via',\n",
       "       'Civico', 'Codice via', 'ZD', 'Settore Storico Cf Preval',\n",
       "       'Superficie Vendita', 'Superficie Altri Usi',\n",
       "       'Superficie Tabelle Speciali', 'Superficie Totale'],\n",
       "      dtype='object')"
      ]
     },
     "execution_count": 7,
     "metadata": {},
     "output_type": "execute_result"
    }
   ],
   "source": [
    "df.columns"
   ]
  },
  {
   "cell_type": "code",
   "execution_count": 8,
   "metadata": {},
   "outputs": [
    {
     "data": {
      "text/plain": [
       "Settore Merceologico            object\n",
       "Insegna                         object\n",
       "Ubicazione                      object\n",
       "Tipo via                        object\n",
       "Via                             object\n",
       "Civico                          object\n",
       "Codice via                      object\n",
       "ZD                             float64\n",
       "Settore Storico Cf Preval       object\n",
       "Superficie Vendita             float64\n",
       "Superficie Altri Usi           float64\n",
       "Superficie Tabelle Speciali    float64\n",
       "Superficie Totale              float64\n",
       "dtype: object"
      ]
     },
     "execution_count": 8,
     "metadata": {},
     "output_type": "execute_result"
    }
   ],
   "source": [
    "df.dtypes"
   ]
  },
  {
   "cell_type": "markdown",
   "metadata": {},
   "source": [
    "## DQ ASSESMENT"
   ]
  },
  {
   "cell_type": "markdown",
   "metadata": {},
   "source": [
    "The dimensions to evaluate are:"
   ]
  },
  {
   "cell_type": "markdown",
   "metadata": {},
   "source": [
    "- completeness\n",
    "- accuracy\n",
    "- timeliness\n",
    "- consistency"
   ]
  },
  {
   "cell_type": "code",
   "execution_count": 19,
   "metadata": {},
   "outputs": [
    {
     "name": "stdout",
     "output_type": "stream",
     "text": [
      "COMPLETENESS: 82.12%\n"
     ]
    }
   ],
   "source": [
    "not_nulls = df.count().sum()\n",
    "tot_cells = np.prod(df.shape)\n",
    "completeness = not_nulls/tot_cells * 100\n",
    "print(f\"COMPLETENESS: {completeness :.2f}%\")"
   ]
  },
  {
   "cell_type": "markdown",
   "metadata": {},
   "source": [
    "## DATA PROFILING"
   ]
  },
  {
   "cell_type": "markdown",
   "metadata": {},
   "source": [
    "## DATA WRANGLING"
   ]
  },
  {
   "cell_type": "markdown",
   "metadata": {},
   "source": [
    "## MISSING VALUES HANDLING"
   ]
  },
  {
   "cell_type": "markdown",
   "metadata": {},
   "source": [
    "## OUTLIERS HANDLING"
   ]
  },
  {
   "cell_type": "markdown",
   "metadata": {},
   "source": [
    "## DUPLICATES HANDLING"
   ]
  },
  {
   "cell_type": "markdown",
   "metadata": {},
   "source": [
    "## PERFORMANCE ANALYSIS (optional)"
   ]
  }
 ],
 "metadata": {
  "kernelspec": {
   "display_name": "Python 3",
   "language": "python",
   "name": "python3"
  },
  "language_info": {
   "codemirror_mode": {
    "name": "ipython",
    "version": 3
   },
   "file_extension": ".py",
   "mimetype": "text/x-python",
   "name": "python",
   "nbconvert_exporter": "python",
   "pygments_lexer": "ipython3",
   "version": "3.11.3"
  }
 },
 "nbformat": 4,
 "nbformat_minor": 2
}
