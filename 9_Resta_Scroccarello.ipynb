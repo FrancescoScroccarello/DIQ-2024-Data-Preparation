{
 "cells": [
  {
   "cell_type": "markdown",
   "metadata": {},
   "source": [
    "## IMPORTS AND UTILITIES"
   ]
  },
  {
   "cell_type": "code",
   "execution_count": 1,
   "metadata": {},
   "outputs": [],
   "source": [
    "import json\n",
    "import pandas as pd\n",
    "import numpy as np\n",
    "import seaborn as sns\n",
    "import matplotlib.pyplot as plt\n",
    "from scipy.stats import pearsonr, spearmanr\n",
    "from ydata_profiling import ProfileReport"
   ]
  },
  {
   "cell_type": "code",
   "execution_count": 2,
   "metadata": {},
   "outputs": [],
   "source": [
    "# import of the dataset\n",
    "df = pd.read_csv(\"Comune-di-Milano-Esercizi-di-vicinato-in-sede-fissa-dirty.csv\",sep=';',encoding='unicode_escape')"
   ]
  },
  {
   "cell_type": "code",
   "execution_count": 3,
   "metadata": {},
   "outputs": [
    {
     "data": {
      "text/html": [
       "<div>\n",
       "<style scoped>\n",
       "    .dataframe tbody tr th:only-of-type {\n",
       "        vertical-align: middle;\n",
       "    }\n",
       "\n",
       "    .dataframe tbody tr th {\n",
       "        vertical-align: top;\n",
       "    }\n",
       "\n",
       "    .dataframe thead th {\n",
       "        text-align: right;\n",
       "    }\n",
       "</style>\n",
       "<table border=\"1\" class=\"dataframe\">\n",
       "  <thead>\n",
       "    <tr style=\"text-align: right;\">\n",
       "      <th></th>\n",
       "      <th>Settore Merceologico</th>\n",
       "      <th>Insegna</th>\n",
       "      <th>Ubicazione</th>\n",
       "      <th>Tipo via</th>\n",
       "      <th>Via</th>\n",
       "      <th>Civico</th>\n",
       "      <th>Codice via</th>\n",
       "      <th>ZD</th>\n",
       "      <th>Settore Storico Cf Preval</th>\n",
       "      <th>Superficie Vendita</th>\n",
       "      <th>Superficie Altri Usi</th>\n",
       "      <th>Superficie Tabelle Speciali</th>\n",
       "      <th>Superficie Totale</th>\n",
       "    </tr>\n",
       "  </thead>\n",
       "  <tbody>\n",
       "    <tr>\n",
       "      <th>0</th>\n",
       "      <td>NaN</td>\n",
       "      <td>NaN</td>\n",
       "      <td>CSO ITALIA N. 34 (z.d. 1)</td>\n",
       "      <td>CSO</td>\n",
       "      <td>ITALIA</td>\n",
       "      <td>34</td>\n",
       "      <td>526</td>\n",
       "      <td>1.0</td>\n",
       "      <td>speciale panificatori</td>\n",
       "      <td>0.0</td>\n",
       "      <td>NaN</td>\n",
       "      <td>NaN</td>\n",
       "      <td>0.0</td>\n",
       "    </tr>\n",
       "    <tr>\n",
       "      <th>1</th>\n",
       "      <td>NaN</td>\n",
       "      <td>NaN</td>\n",
       "      <td>CSO LODI N. 104 (z.d. 4)</td>\n",
       "      <td>CSO</td>\n",
       "      <td>LODI</td>\n",
       "      <td>104</td>\n",
       "      <td>4068</td>\n",
       "      <td>4.0</td>\n",
       "      <td>NaN</td>\n",
       "      <td>16.0</td>\n",
       "      <td>5.0</td>\n",
       "      <td>NaN</td>\n",
       "      <td>21.0</td>\n",
       "    </tr>\n",
       "    <tr>\n",
       "      <th>2</th>\n",
       "      <td>NaN</td>\n",
       "      <td>NaN</td>\n",
       "      <td>CSO LODI N. 26 (z.d. 5)</td>\n",
       "      <td>CSO</td>\n",
       "      <td>LODI</td>\n",
       "      <td>26</td>\n",
       "      <td>4068</td>\n",
       "      <td>5.0</td>\n",
       "      <td>speciale panificatori</td>\n",
       "      <td>0.0</td>\n",
       "      <td>NaN</td>\n",
       "      <td>NaN</td>\n",
       "      <td>0.0</td>\n",
       "    </tr>\n",
       "    <tr>\n",
       "      <th>3</th>\n",
       "      <td>NaN</td>\n",
       "      <td>NaN</td>\n",
       "      <td>CSO SEMPIONE N. 41 (z.d. 6)</td>\n",
       "      <td>CSO</td>\n",
       "      <td>SEMPIONE</td>\n",
       "      <td>41</td>\n",
       "      <td>7137</td>\n",
       "      <td>8.0</td>\n",
       "      <td>NaN</td>\n",
       "      <td>120.0</td>\n",
       "      <td>NaN</td>\n",
       "      <td>NaN</td>\n",
       "      <td>120.0</td>\n",
       "    </tr>\n",
       "    <tr>\n",
       "      <th>4</th>\n",
       "      <td>NaN</td>\n",
       "      <td>NaN</td>\n",
       "      <td>LGO SCALABRINI GIOVANNI BATTISTA N. 2 (z.d. 6)</td>\n",
       "      <td>LGO</td>\n",
       "      <td>SCALABRINI GIOVANNI BATTISTA</td>\n",
       "      <td>2</td>\n",
       "      <td>5392</td>\n",
       "      <td>6.0</td>\n",
       "      <td>NaN</td>\n",
       "      <td>0.0</td>\n",
       "      <td>NaN</td>\n",
       "      <td>NaN</td>\n",
       "      <td>0.0</td>\n",
       "    </tr>\n",
       "    <tr>\n",
       "      <th>5</th>\n",
       "      <td>NaN</td>\n",
       "      <td>NaN</td>\n",
       "      <td>PLE STAZIONE DI PORTA GENOVA N. 2 (z.d. 6)</td>\n",
       "      <td>PLE</td>\n",
       "      <td>STAZIONE DI PORTA GENOVA</td>\n",
       "      <td>2</td>\n",
       "      <td>5120</td>\n",
       "      <td>6.0</td>\n",
       "      <td>speciale panificatori</td>\n",
       "      <td>36.0</td>\n",
       "      <td>NaN</td>\n",
       "      <td>NaN</td>\n",
       "      <td>36.0</td>\n",
       "    </tr>\n",
       "    <tr>\n",
       "      <th>6</th>\n",
       "      <td>NaN</td>\n",
       "      <td>NaN</td>\n",
       "      <td>PZA ASPROMONTE N. 1 ang.lulli-7.4.08 tr.set.ag...</td>\n",
       "      <td>PZA</td>\n",
       "      <td>ASPROMONTE</td>\n",
       "      <td>1</td>\n",
       "      <td>2246</td>\n",
       "      <td>3.0</td>\n",
       "      <td>prod. agricolo alim/non alim</td>\n",
       "      <td>3.0</td>\n",
       "      <td>NaN</td>\n",
       "      <td>NaN</td>\n",
       "      <td>40.0</td>\n",
       "    </tr>\n",
       "    <tr>\n",
       "      <th>7</th>\n",
       "      <td>NaN</td>\n",
       "      <td>NaN</td>\n",
       "      <td>PZA BONOMELLI GEREMIA N. 10 (z.d. 5)</td>\n",
       "      <td>PZA</td>\n",
       "      <td>BONOMELLI GEREMIA</td>\n",
       "      <td>10</td>\n",
       "      <td>4150</td>\n",
       "      <td>5.0</td>\n",
       "      <td>ESERCIZIO DI VICINATO</td>\n",
       "      <td>14.0</td>\n",
       "      <td>143.0</td>\n",
       "      <td>NaN</td>\n",
       "      <td>157.0</td>\n",
       "    </tr>\n",
       "    <tr>\n",
       "      <th>8</th>\n",
       "      <td>NaN</td>\n",
       "      <td>NaN</td>\n",
       "      <td>PZA OBERDAN GUGLIELMO N. 2 (z.d. 1)</td>\n",
       "      <td>PZA</td>\n",
       "      <td>OBERDAN GUGLIELMO</td>\n",
       "      <td>2</td>\n",
       "      <td>2108</td>\n",
       "      <td>1.0</td>\n",
       "      <td>COMMERCIO AL DETTAGLIO</td>\n",
       "      <td>190.0</td>\n",
       "      <td>100.0</td>\n",
       "      <td>NaN</td>\n",
       "      <td>290.0</td>\n",
       "    </tr>\n",
       "    <tr>\n",
       "      <th>9</th>\n",
       "      <td>NaN</td>\n",
       "      <td>NaN</td>\n",
       "      <td>PZA SANTA MARIA DELLE GRAZIE N. 1 comm. elettr...</td>\n",
       "      <td>PZA</td>\n",
       "      <td>SANTA MARIA DELLE GRAZIE</td>\n",
       "      <td>1</td>\n",
       "      <td>6164</td>\n",
       "      <td>1.0</td>\n",
       "      <td>NaN</td>\n",
       "      <td>0.0</td>\n",
       "      <td>NaN</td>\n",
       "      <td>NaN</td>\n",
       "      <td>0.0</td>\n",
       "    </tr>\n",
       "  </tbody>\n",
       "</table>\n",
       "</div>"
      ],
      "text/plain": [
       "  Settore Merceologico Insegna   \n",
       "0                  NaN     NaN  \\\n",
       "1                  NaN     NaN   \n",
       "2                  NaN     NaN   \n",
       "3                  NaN     NaN   \n",
       "4                  NaN     NaN   \n",
       "5                  NaN     NaN   \n",
       "6                  NaN     NaN   \n",
       "7                  NaN     NaN   \n",
       "8                  NaN     NaN   \n",
       "9                  NaN     NaN   \n",
       "\n",
       "                                          Ubicazione Tipo via   \n",
       "0                          CSO ITALIA N. 34 (z.d. 1)      CSO  \\\n",
       "1                           CSO LODI N. 104 (z.d. 4)      CSO   \n",
       "2                            CSO LODI N. 26 (z.d. 5)      CSO   \n",
       "3                        CSO SEMPIONE N. 41 (z.d. 6)      CSO   \n",
       "4     LGO SCALABRINI GIOVANNI BATTISTA N. 2 (z.d. 6)      LGO   \n",
       "5         PLE STAZIONE DI PORTA GENOVA N. 2 (z.d. 6)      PLE   \n",
       "6  PZA ASPROMONTE N. 1 ang.lulli-7.4.08 tr.set.ag...      PZA   \n",
       "7               PZA BONOMELLI GEREMIA N. 10 (z.d. 5)      PZA   \n",
       "8                PZA OBERDAN GUGLIELMO N. 2 (z.d. 1)      PZA   \n",
       "9  PZA SANTA MARIA DELLE GRAZIE N. 1 comm. elettr...      PZA   \n",
       "\n",
       "                            Via Civico Codice via   ZD   \n",
       "0                        ITALIA     34        526  1.0  \\\n",
       "1                          LODI    104       4068  4.0   \n",
       "2                          LODI     26       4068  5.0   \n",
       "3                      SEMPIONE     41       7137  8.0   \n",
       "4  SCALABRINI GIOVANNI BATTISTA      2       5392  6.0   \n",
       "5      STAZIONE DI PORTA GENOVA      2       5120  6.0   \n",
       "6                    ASPROMONTE      1       2246  3.0   \n",
       "7             BONOMELLI GEREMIA     10       4150  5.0   \n",
       "8             OBERDAN GUGLIELMO      2       2108  1.0   \n",
       "9      SANTA MARIA DELLE GRAZIE      1       6164  1.0   \n",
       "\n",
       "      Settore Storico Cf Preval  Superficie Vendita  Superficie Altri Usi   \n",
       "0         speciale panificatori                 0.0                   NaN  \\\n",
       "1                           NaN                16.0                   5.0   \n",
       "2         speciale panificatori                 0.0                   NaN   \n",
       "3                           NaN               120.0                   NaN   \n",
       "4                           NaN                 0.0                   NaN   \n",
       "5         speciale panificatori                36.0                   NaN   \n",
       "6  prod. agricolo alim/non alim                 3.0                   NaN   \n",
       "7         ESERCIZIO DI VICINATO                14.0                 143.0   \n",
       "8        COMMERCIO AL DETTAGLIO               190.0                 100.0   \n",
       "9                           NaN                 0.0                   NaN   \n",
       "\n",
       "   Superficie Tabelle Speciali  Superficie Totale  \n",
       "0                          NaN                0.0  \n",
       "1                          NaN               21.0  \n",
       "2                          NaN                0.0  \n",
       "3                          NaN              120.0  \n",
       "4                          NaN                0.0  \n",
       "5                          NaN               36.0  \n",
       "6                          NaN               40.0  \n",
       "7                          NaN              157.0  \n",
       "8                          NaN              290.0  \n",
       "9                          NaN                0.0  "
      ]
     },
     "execution_count": 3,
     "metadata": {},
     "output_type": "execute_result"
    }
   ],
   "source": [
    "# show first 10 records just for a visualization\n",
    "df.head(10)"
   ]
  },
  {
   "cell_type": "markdown",
   "metadata": {},
   "source": [
    "## DATA PROFILING AND DQ ASSESMENT"
   ]
  },
  {
   "cell_type": "markdown",
   "metadata": {},
   "source": [
    "BASIC PROFILING OPERATIONS"
   ]
  },
  {
   "cell_type": "code",
   "execution_count": 4,
   "metadata": {},
   "outputs": [
    {
     "name": "stdout",
     "output_type": "stream",
     "text": [
      "Num of rows: 24136\n",
      "Num of columns: 13\n"
     ]
    }
   ],
   "source": [
    "n_rows = df.shape[0]\n",
    "n_cols = df.shape[1]\n",
    "print(f\"Num of rows: {n_rows}\\nNum of columns: {n_cols}\")"
   ]
  },
  {
   "cell_type": "code",
   "execution_count": 5,
   "metadata": {},
   "outputs": [
    {
     "name": "stdout",
     "output_type": "stream",
     "text": [
      "COLUMNS OF THE DATASET:\n",
      "Settore Merceologico\n",
      "Insegna\n",
      "Ubicazione\n",
      "Tipo via\n",
      "Via\n",
      "Civico\n",
      "Codice via\n",
      "ZD\n",
      "Settore Storico Cf Preval\n",
      "Superficie Vendita\n",
      "Superficie Altri Usi\n",
      "Superficie Tabelle Speciali\n",
      "Superficie Totale\n"
     ]
    }
   ],
   "source": [
    "print(\"COLUMNS OF THE DATASET:\")\n",
    "for col in df.columns:\n",
    "    print(f\"{col}\")"
   ]
  },
  {
   "cell_type": "code",
   "execution_count": 6,
   "metadata": {},
   "outputs": [
    {
     "data": {
      "text/plain": [
       "Settore Merceologico            object\n",
       "Insegna                         object\n",
       "Ubicazione                      object\n",
       "Tipo via                        object\n",
       "Via                             object\n",
       "Civico                          object\n",
       "Codice via                      object\n",
       "ZD                             float64\n",
       "Settore Storico Cf Preval       object\n",
       "Superficie Vendita             float64\n",
       "Superficie Altri Usi           float64\n",
       "Superficie Tabelle Speciali    float64\n",
       "Superficie Totale              float64\n",
       "dtype: object"
      ]
     },
     "execution_count": 6,
     "metadata": {},
     "output_type": "execute_result"
    }
   ],
   "source": [
    "# show for each column the type of its elements\n",
    "df.dtypes"
   ]
  },
  {
   "cell_type": "code",
   "execution_count": 7,
   "metadata": {},
   "outputs": [],
   "source": [
    "# separate numerical variables from categorical\n",
    "num = df[df.select_dtypes(include=['float64']).columns] \n",
    "cat = df[df.select_dtypes(include=['object']).columns]"
   ]
  },
  {
   "cell_type": "code",
   "execution_count": 8,
   "metadata": {},
   "outputs": [
    {
     "name": "stdout",
     "output_type": "stream",
     "text": [
      "Histogram for ZD:\n"
     ]
    },
    {
     "data": {
      "image/png": "[encoded data removed]",
      "text/plain": [
       "<Figure size 640x480 with 1 Axes>"
      ]
     },
     "metadata": {},
     "output_type": "display_data"
    },
    {
     "name": "stdout",
     "output_type": "stream",
     "text": [
      "Histogram for Superficie Vendita:\n"
     ]
    },
    {
     "data": {
      "image/png": "[encoded data removed]",
      "text/plain": [
       "<Figure size 640x480 with 1 Axes>"
      ]
     },
     "metadata": {},
     "output_type": "display_data"
    },
    {
     "name": "stdout",
     "output_type": "stream",
     "text": [
      "Histogram for Superficie Altri Usi:\n"
     ]
    },
    {
     "data": {
      "image/png": "[encoded data removed]",
      "text/plain": [
       "<Figure size 640x480 with 1 Axes>"
      ]
     },
     "metadata": {},
     "output_type": "display_data"
    },
    {
     "name": "stdout",
     "output_type": "stream",
     "text": [
      "Histogram for Superficie Tabelle Speciali:\n"
     ]
    },
    {
     "data": {
      "image/png": "[encoded data removed]",
      "text/plain": [
       "<Figure size 640x480 with 1 Axes>"
      ]
     },
     "metadata": {},
     "output_type": "display_data"
    },
    {
     "name": "stdout",
     "output_type": "stream",
     "text": [
      "Histogram for Superficie Totale:\n"
     ]
    },
    {
     "data": {
      "image/png": "[encoded data removed]",
      "text/plain": [
       "<Figure size 640x480 with 1 Axes>"
      ]
     },
     "metadata": {},
     "output_type": "display_data"
    }
   ],
   "source": [
    "# look at values distributions\n",
    "for col in num:\n",
    "    print(\"Histogram for \"+col+\":\")\n",
    "    df[col].hist()\n",
    "    plt.show()"
   ]
  },
  {
   "cell_type": "code",
   "execution_count": 9,
   "metadata": {},
   "outputs": [
    {
     "data": {
      "text/html": [
       "<div>\n",
       "<style scoped>\n",
       "    .dataframe tbody tr th:only-of-type {\n",
       "        vertical-align: middle;\n",
       "    }\n",
       "\n",
       "    .dataframe tbody tr th {\n",
       "        vertical-align: top;\n",
       "    }\n",
       "\n",
       "    .dataframe thead th {\n",
       "        text-align: right;\n",
       "    }\n",
       "</style>\n",
       "<table border=\"1\" class=\"dataframe\">\n",
       "  <thead>\n",
       "    <tr style=\"text-align: right;\">\n",
       "      <th></th>\n",
       "      <th>ZD</th>\n",
       "      <th>Superficie Vendita</th>\n",
       "      <th>Superficie Altri Usi</th>\n",
       "      <th>Superficie Tabelle Speciali</th>\n",
       "      <th>Superficie Totale</th>\n",
       "    </tr>\n",
       "  </thead>\n",
       "  <tbody>\n",
       "    <tr>\n",
       "      <th>count</th>\n",
       "      <td>24134.000000</td>\n",
       "      <td>24106.000000</td>\n",
       "      <td>9038.000000</td>\n",
       "      <td>1127.000000</td>\n",
       "      <td>24100.000000</td>\n",
       "    </tr>\n",
       "    <tr>\n",
       "      <th>mean</th>\n",
       "      <td>4.339935</td>\n",
       "      <td>56.762715</td>\n",
       "      <td>67.852069</td>\n",
       "      <td>37.138421</td>\n",
       "      <td>98.350747</td>\n",
       "    </tr>\n",
       "    <tr>\n",
       "      <th>std</th>\n",
       "      <td>2.791555</td>\n",
       "      <td>49.281531</td>\n",
       "      <td>280.890686</td>\n",
       "      <td>29.824418</td>\n",
       "      <td>266.692535</td>\n",
       "    </tr>\n",
       "    <tr>\n",
       "      <th>min</th>\n",
       "      <td>1.000000</td>\n",
       "      <td>0.000000</td>\n",
       "      <td>0.000000</td>\n",
       "      <td>1.000000</td>\n",
       "      <td>0.000000</td>\n",
       "    </tr>\n",
       "    <tr>\n",
       "      <th>25%</th>\n",
       "      <td>2.000000</td>\n",
       "      <td>25.000000</td>\n",
       "      <td>10.000000</td>\n",
       "      <td>13.000000</td>\n",
       "      <td>35.000000</td>\n",
       "    </tr>\n",
       "    <tr>\n",
       "      <th>50%</th>\n",
       "      <td>4.000000</td>\n",
       "      <td>40.000000</td>\n",
       "      <td>21.000000</td>\n",
       "      <td>30.000000</td>\n",
       "      <td>55.000000</td>\n",
       "    </tr>\n",
       "    <tr>\n",
       "      <th>75%</th>\n",
       "      <td>7.000000</td>\n",
       "      <td>70.000000</td>\n",
       "      <td>50.000000</td>\n",
       "      <td>52.500000</td>\n",
       "      <td>100.000000</td>\n",
       "    </tr>\n",
       "    <tr>\n",
       "      <th>max</th>\n",
       "      <td>60.000000</td>\n",
       "      <td>250.000000</td>\n",
       "      <td>9056.000000</td>\n",
       "      <td>230.000000</td>\n",
       "      <td>11942.000000</td>\n",
       "    </tr>\n",
       "  </tbody>\n",
       "</table>\n",
       "</div>"
      ],
      "text/plain": [
       "                 ZD  Superficie Vendita  Superficie Altri Usi   \n",
       "count  24134.000000        24106.000000           9038.000000  \\\n",
       "mean       4.339935           56.762715             67.852069   \n",
       "std        2.791555           49.281531            280.890686   \n",
       "min        1.000000            0.000000              0.000000   \n",
       "25%        2.000000           25.000000             10.000000   \n",
       "50%        4.000000           40.000000             21.000000   \n",
       "75%        7.000000           70.000000             50.000000   \n",
       "max       60.000000          250.000000           9056.000000   \n",
       "\n",
       "       Superficie Tabelle Speciali  Superficie Totale  \n",
       "count                  1127.000000       24100.000000  \n",
       "mean                     37.138421          98.350747  \n",
       "std                      29.824418         266.692535  \n",
       "min                       1.000000           0.000000  \n",
       "25%                      13.000000          35.000000  \n",
       "50%                      30.000000          55.000000  \n",
       "75%                      52.500000         100.000000  \n",
       "max                     230.000000       11942.000000  "
      ]
     },
     "execution_count": 9,
     "metadata": {},
     "output_type": "execute_result"
    }
   ],
   "source": [
    "# extract basic statistics for the numerical variables\n",
    "stats = num.describe()\n",
    "stats"
   ]
  },
  {
   "cell_type": "code",
   "execution_count": 10,
   "metadata": {},
   "outputs": [
    {
     "data": {
      "text/html": [
       "<div>\n",
       "<style scoped>\n",
       "    .dataframe tbody tr th:only-of-type {\n",
       "        vertical-align: middle;\n",
       "    }\n",
       "\n",
       "    .dataframe tbody tr th {\n",
       "        vertical-align: top;\n",
       "    }\n",
       "\n",
       "    .dataframe thead th {\n",
       "        text-align: right;\n",
       "    }\n",
       "</style>\n",
       "<table border=\"1\" class=\"dataframe\">\n",
       "  <thead>\n",
       "    <tr style=\"text-align: right;\">\n",
       "      <th></th>\n",
       "      <th>ZD</th>\n",
       "      <th>Superficie Vendita</th>\n",
       "      <th>Superficie Altri Usi</th>\n",
       "      <th>Superficie Tabelle Speciali</th>\n",
       "      <th>Superficie Totale</th>\n",
       "    </tr>\n",
       "  </thead>\n",
       "  <tbody>\n",
       "    <tr>\n",
       "      <th>ZD</th>\n",
       "      <td>0.0</td>\n",
       "      <td>0.752213</td>\n",
       "      <td>0.180803</td>\n",
       "      <td>0.613539</td>\n",
       "      <td>0.04012</td>\n",
       "    </tr>\n",
       "    <tr>\n",
       "      <th>Superficie Vendita</th>\n",
       "      <td>0.752213</td>\n",
       "      <td>0.0</td>\n",
       "      <td>0.000084</td>\n",
       "      <td>0.0</td>\n",
       "      <td>0.0</td>\n",
       "    </tr>\n",
       "    <tr>\n",
       "      <th>Superficie Altri Usi</th>\n",
       "      <td>0.180803</td>\n",
       "      <td>0.000084</td>\n",
       "      <td>0.0</td>\n",
       "      <td>0.000702</td>\n",
       "      <td>0.0</td>\n",
       "    </tr>\n",
       "    <tr>\n",
       "      <th>Superficie Tabelle Speciali</th>\n",
       "      <td>0.613539</td>\n",
       "      <td>0.0</td>\n",
       "      <td>0.000702</td>\n",
       "      <td>0.0</td>\n",
       "      <td>0.0</td>\n",
       "    </tr>\n",
       "    <tr>\n",
       "      <th>Superficie Totale</th>\n",
       "      <td>0.04012</td>\n",
       "      <td>0.0</td>\n",
       "      <td>0.0</td>\n",
       "      <td>0.0</td>\n",
       "      <td>0.0</td>\n",
       "    </tr>\n",
       "  </tbody>\n",
       "</table>\n",
       "</div>"
      ],
      "text/plain": [
       "                                   ZD Superficie Vendita Superficie Altri Usi   \n",
       "ZD                                0.0           0.752213             0.180803  \\\n",
       "Superficie Vendita           0.752213                0.0             0.000084   \n",
       "Superficie Altri Usi         0.180803           0.000084                  0.0   \n",
       "Superficie Tabelle Speciali  0.613539                0.0             0.000702   \n",
       "Superficie Totale             0.04012                0.0                  0.0   \n",
       "\n",
       "                            Superficie Tabelle Speciali Superficie Totale  \n",
       "ZD                                             0.613539           0.04012  \n",
       "Superficie Vendita                                  0.0               0.0  \n",
       "Superficie Altri Usi                           0.000702               0.0  \n",
       "Superficie Tabelle Speciali                         0.0               0.0  \n",
       "Superficie Totale                                   0.0               0.0  "
      ]
     },
     "execution_count": 10,
     "metadata": {},
     "output_type": "execute_result"
    }
   ],
   "source": [
    "p_values = pd.DataFrame(index=num.columns, columns=num.columns)\n",
    "\n",
    "nnum = num.dropna()\n",
    "for c1 in num.columns:\n",
    "    for c2 in num.columns:\n",
    "        if c1 == c2:\n",
    "            p_values.loc[c1,c2] = 0.0\n",
    "        else:\n",
    "            _, p_value = spearmanr(nnum[c1], nnum[c2])\n",
    "            p_values.loc[c1, c2] = p_value\n",
    "\n",
    "p_values"
   ]
  },
  {
   "cell_type": "code",
   "execution_count": 11,
   "metadata": {},
   "outputs": [
    {
     "data": {
      "image/png": "[encoded data removed]",
      "text/plain": [
       "<Figure size 640x480 with 2 Axes>"
      ]
     },
     "metadata": {},
     "output_type": "display_data"
    }
   ],
   "source": [
    "corr = num.corr(method='spearman')\n",
    "sns.heatmap(corr)\n",
    "plt.show()"
   ]
  },
  {
   "cell_type": "code",
   "execution_count": 12,
   "metadata": {},
   "outputs": [
    {
     "data": {
      "image/png": "[encoded data removed]",
      "text/plain": [
       "<Figure size 640x480 with 2 Axes>"
      ]
     },
     "metadata": {},
     "output_type": "display_data"
    }
   ],
   "source": [
    "# look for correlations \n",
    "# TODO try other methods other than Pearson test\n",
    "corr = num.corr(method='pearson')\n",
    "sns.heatmap(corr)\n",
    "plt.show()"
   ]
  },
  {
   "cell_type": "markdown",
   "metadata": {},
   "source": [
    "SINGLE COLUMN ANALYSIS"
   ]
  },
  {
   "cell_type": "markdown",
   "metadata": {},
   "source": [
    "For each column, we compute:\n",
    "\n",
    "- Missing: number of missing values\n",
    "- Actual: count of the number of records with an actual value (*i.e.,* not-null).\n",
    "- Cardinality: count of the number of distinct actual values.\n",
    "- Uniqueness: percentage calculated as Cardinality divided by the total number of records.\n",
    "- Distinctness: percentage calculated as Cardinality divided by Actual.\n",
    "- Constancy: \"how frequent\" is the most frequent value (can help spot standard)"
   ]
  },
  {
   "cell_type": "code",
   "execution_count": 13,
   "metadata": {},
   "outputs": [
    {
     "data": {
      "text/plain": [
       "ZD\n",
       "1.0     5732\n",
       "3.0     3131\n",
       "4.0     2398\n",
       "9.0     2307\n",
       "2.0     2297\n",
       "8.0     2271\n",
       "7.0     2221\n",
       "6.0     2011\n",
       "5.0     1765\n",
       "60.0       1\n",
       "Name: count, dtype: int64"
      ]
     },
     "execution_count": 13,
     "metadata": {},
     "output_type": "execute_result"
    }
   ],
   "source": [
    "num['ZD'].value_counts()"
   ]
  },
  {
   "cell_type": "code",
   "execution_count": 14,
   "metadata": {},
   "outputs": [
    {
     "data": {
      "text/html": [
       "<div>\n",
       "<style scoped>\n",
       "    .dataframe tbody tr th:only-of-type {\n",
       "        vertical-align: middle;\n",
       "    }\n",
       "\n",
       "    .dataframe tbody tr th {\n",
       "        vertical-align: top;\n",
       "    }\n",
       "\n",
       "    .dataframe thead th {\n",
       "        text-align: right;\n",
       "    }\n",
       "</style>\n",
       "<table border=\"1\" class=\"dataframe\">\n",
       "  <thead>\n",
       "    <tr style=\"text-align: right;\">\n",
       "      <th></th>\n",
       "      <th>Settore Merceologico</th>\n",
       "      <th>Insegna</th>\n",
       "      <th>Ubicazione</th>\n",
       "      <th>Tipo via</th>\n",
       "      <th>Via</th>\n",
       "      <th>Civico</th>\n",
       "      <th>Codice via</th>\n",
       "      <th>ZD</th>\n",
       "      <th>Settore Storico Cf Preval</th>\n",
       "      <th>Superficie Vendita</th>\n",
       "      <th>Superficie Altri Usi</th>\n",
       "      <th>Superficie Tabelle Speciali</th>\n",
       "      <th>Superficie Totale</th>\n",
       "    </tr>\n",
       "  </thead>\n",
       "  <tbody>\n",
       "    <tr>\n",
       "      <th>Missing</th>\n",
       "      <td>105</td>\n",
       "      <td>17147</td>\n",
       "      <td>1</td>\n",
       "      <td>2</td>\n",
       "      <td>1</td>\n",
       "      <td>650</td>\n",
       "      <td>2</td>\n",
       "      <td>2</td>\n",
       "      <td>33</td>\n",
       "      <td>30</td>\n",
       "      <td>15098</td>\n",
       "      <td>23009</td>\n",
       "      <td>36</td>\n",
       "    </tr>\n",
       "    <tr>\n",
       "      <th>Actual</th>\n",
       "      <td>24031</td>\n",
       "      <td>6989</td>\n",
       "      <td>24135</td>\n",
       "      <td>24134</td>\n",
       "      <td>24135</td>\n",
       "      <td>23486</td>\n",
       "      <td>24134</td>\n",
       "      <td>24134</td>\n",
       "      <td>24103</td>\n",
       "      <td>24106</td>\n",
       "      <td>9038</td>\n",
       "      <td>1127</td>\n",
       "      <td>24100</td>\n",
       "    </tr>\n",
       "    <tr>\n",
       "      <th>Cardinality</th>\n",
       "      <td>56</td>\n",
       "      <td>5583</td>\n",
       "      <td>16907</td>\n",
       "      <td>20</td>\n",
       "      <td>2331</td>\n",
       "      <td>386</td>\n",
       "      <td>2348</td>\n",
       "      <td>10</td>\n",
       "      <td>2228</td>\n",
       "      <td>250</td>\n",
       "      <td>438</td>\n",
       "      <td>117</td>\n",
       "      <td>642</td>\n",
       "    </tr>\n",
       "    <tr>\n",
       "      <th>Uniqueness</th>\n",
       "      <td>0.00232</td>\n",
       "      <td>0.231314</td>\n",
       "      <td>0.700489</td>\n",
       "      <td>0.000829</td>\n",
       "      <td>0.096578</td>\n",
       "      <td>0.015993</td>\n",
       "      <td>0.097282</td>\n",
       "      <td>0.000414</td>\n",
       "      <td>0.09231</td>\n",
       "      <td>0.010358</td>\n",
       "      <td>0.018147</td>\n",
       "      <td>0.004848</td>\n",
       "      <td>0.026599</td>\n",
       "    </tr>\n",
       "    <tr>\n",
       "      <th>Distinctness</th>\n",
       "      <td>0.00233</td>\n",
       "      <td>0.798827</td>\n",
       "      <td>0.700518</td>\n",
       "      <td>0.000829</td>\n",
       "      <td>0.096582</td>\n",
       "      <td>0.016435</td>\n",
       "      <td>0.09729</td>\n",
       "      <td>0.000414</td>\n",
       "      <td>0.092437</td>\n",
       "      <td>0.010371</td>\n",
       "      <td>0.048462</td>\n",
       "      <td>0.103815</td>\n",
       "      <td>0.026639</td>\n",
       "    </tr>\n",
       "    <tr>\n",
       "      <th>Constancy</th>\n",
       "      <td>0.682342</td>\n",
       "      <td>0.006878</td>\n",
       "      <td>0.000953</td>\n",
       "      <td>0.720045</td>\n",
       "      <td>0.01214</td>\n",
       "      <td>0.062314</td>\n",
       "      <td>0.01214</td>\n",
       "      <td>0.237488</td>\n",
       "      <td>0.089617</td>\n",
       "      <td>0.051583</td>\n",
       "      <td>0.024196</td>\n",
       "      <td>0.004267</td>\n",
       "      <td>0.042551</td>\n",
       "    </tr>\n",
       "    <tr>\n",
       "      <th>Completeness</th>\n",
       "      <td>0.99565</td>\n",
       "      <td>0.289567</td>\n",
       "      <td>0.999959</td>\n",
       "      <td>0.999917</td>\n",
       "      <td>0.999959</td>\n",
       "      <td>0.973069</td>\n",
       "      <td>0.999917</td>\n",
       "      <td>0.999917</td>\n",
       "      <td>0.998633</td>\n",
       "      <td>0.998757</td>\n",
       "      <td>0.374461</td>\n",
       "      <td>0.046694</td>\n",
       "      <td>0.998508</td>\n",
       "    </tr>\n",
       "  </tbody>\n",
       "</table>\n",
       "</div>"
      ],
      "text/plain": [
       "             Settore Merceologico   Insegna Ubicazione  Tipo via       Via   \n",
       "Missing                       105     17147          1         2         1  \\\n",
       "Actual                      24031      6989      24135     24134     24135   \n",
       "Cardinality                    56      5583      16907        20      2331   \n",
       "Uniqueness                0.00232  0.231314   0.700489  0.000829  0.096578   \n",
       "Distinctness              0.00233  0.798827   0.700518  0.000829  0.096582   \n",
       "Constancy                0.682342  0.006878   0.000953  0.720045   0.01214   \n",
       "Completeness              0.99565  0.289567   0.999959  0.999917  0.999959   \n",
       "\n",
       "                Civico Codice via        ZD Settore Storico Cf Preval   \n",
       "Missing            650          2         2                        33  \\\n",
       "Actual           23486      24134     24134                     24103   \n",
       "Cardinality        386       2348        10                      2228   \n",
       "Uniqueness    0.015993   0.097282  0.000414                   0.09231   \n",
       "Distinctness  0.016435    0.09729  0.000414                  0.092437   \n",
       "Constancy     0.062314    0.01214  0.237488                  0.089617   \n",
       "Completeness  0.973069   0.999917  0.999917                  0.998633   \n",
       "\n",
       "             Superficie Vendita Superficie Altri Usi   \n",
       "Missing                      30                15098  \\\n",
       "Actual                    24106                 9038   \n",
       "Cardinality                 250                  438   \n",
       "Uniqueness             0.010358             0.018147   \n",
       "Distinctness           0.010371             0.048462   \n",
       "Constancy              0.051583             0.024196   \n",
       "Completeness           0.998757             0.374461   \n",
       "\n",
       "             Superficie Tabelle Speciali Superficie Totale  \n",
       "Missing                            23009                36  \n",
       "Actual                              1127             24100  \n",
       "Cardinality                          117               642  \n",
       "Uniqueness                      0.004848          0.026599  \n",
       "Distinctness                    0.103815          0.026639  \n",
       "Constancy                       0.004267          0.042551  \n",
       "Completeness                    0.046694          0.998508  "
      ]
     },
     "execution_count": 14,
     "metadata": {},
     "output_type": "execute_result"
    }
   ],
   "source": [
    "# perform single column analysis for each column\n",
    "sc_analysis = pd.DataFrame(columns=df.columns,index=['Missing','Actual','Cardinality','Uniqueness','Distinctness','Constancy','Completeness'])\n",
    "\n",
    "for col in df.columns:\n",
    "    cardinality = df[col].nunique() # number of unique values\n",
    "    actual = df[col].notnull().sum() # number of not null values\n",
    "    nnull = df[col].isnull().sum() # number of null values\n",
    "    uniqueness = cardinality/n_rows\n",
    "    distinctness = cardinality/actual\n",
    "    mode = df[col].mode()[0]\n",
    "    constancy = df[col].value_counts()[mode] / n_rows\n",
    "\n",
    "    sc_analysis[col]['Missing'] = nnull\n",
    "    sc_analysis[col]['Cardinality'] = cardinality\n",
    "    sc_analysis[col]['Actual'] = actual\n",
    "    sc_analysis[col]['Uniqueness'] = uniqueness\n",
    "    sc_analysis[col]['Distinctness'] = distinctness\n",
    "    sc_analysis[col]['Constancy'] = constancy\n",
    "    sc_analysis[col]['Completeness'] = actual / n_rows\n",
    "\n",
    "sc_analysis\n"
   ]
  },
  {
   "cell_type": "markdown",
   "metadata": {},
   "source": [
    "## DEPENDENCY DISCOVERY"
   ]
  },
  {
   "cell_type": "code",
   "execution_count": 17,
   "metadata": {},
   "outputs": [
    {
     "data": {
      "text/plain": [
       "Settore Merceologico\n",
       "non alimentare                                                                      16469\n",
       "alimentare                                                                           2972\n",
       "Non Alimentare                                                                       1346\n",
       "alimentare;non alimentare                                                            1130\n",
       "tabella speciale monopolio                                                            737\n",
       "Alimentare                                                                            351\n",
       "tabella speciale farmacie                                                             275\n",
       "Alimentare;Non Alimentare                                                             143\n",
       "tabella speciale carburanti                                                           135\n",
       "non alimentare;tabella speciale monopolio                                             122\n",
       "non alimentare;tabella speciale farmacie                                              106\n",
       "Tabella speciale Monopolio                                                             55\n",
       "alimentare;tabella speciale monopolio                                                  45\n",
       "non alimentare;tabella speciale carburanti                                             17\n",
       "alimentare;non alimentare;tabella speciale farmacie                                    16\n",
       "alimentare;non alimentare;tabella speciale monopolio                                   16\n",
       "Tabella speciale Farmacie                                                              12\n",
       "alimentare;non alimentare;tabella speciale carburanti                                  10\n",
       "Non Alimentare;Alimentare                                                               9\n",
       "alimentare;Non Alimentare                                                               8\n",
       "non alimentare;Tabella speciale Monopolio                                               4\n",
       "alimentare;tabella speciale carburanti                                                  4\n",
       "Tabella speciale Carburanti                                                             3\n",
       "Non Alimentare;Tabella speciale Monopolio                                               3\n",
       "Tabella speciale Carburanti;Non Alimentare                                              3\n",
       "non alimentare;alimentare                                                               3\n",
       "Alimentare;Non Alimentare;Tabella speciale Monopolio                                    2\n",
       "Non Alimentare;Tabella speciale Farmacie;Alimentare                                     2\n",
       "Alimentare;Non Alimentare;Tabella speciale Farmacie                                     2\n",
       "Tabella speciale Monopolio;Non Alimentare                                               2\n",
       "Alimentare;                                                                             2\n",
       "alimentare;tabella speciale farmacie                                                    2\n",
       "Alimentare;Tabella speciale Monopolio                                                   2\n",
       "tabella speciale carburanti;alimentare;non alimentare                                   1\n",
       "Alimentare;Alimentare                                                                   1\n",
       "Tabella speciale Monopolio;Alimentare                                                   1\n",
       "Alimentare;non alimentare                                                               1\n",
       "Tabella speciale Monopolio;Alimentare;Non Alimentare                                    1\n",
       "tabella speciale monopolio;non alimentare                                               1\n",
       "tabella speciale carburanti;non alimentare                                              1\n",
       "Tabella speciale Carburanti;Alimentare;Non Alimentare                                   1\n",
       "Tabella speciale Farmacie;Alimentare;Non Alimentare                                     1\n",
       "Alimentare;Tabella speciale Farmacie                                                    1\n",
       "Tabella speciale Carburanti;Alimentare                                                  1\n",
       "alimentare;non alimentare;tabella speciale carburanti;tabella speciale monopolio        1\n",
       "alimentare;Tabella speciale Farmacie                                                    1\n",
       "non alimentare;tabella speciale farmacie;Alimentare                                     1\n",
       "non alimentare;Tabella speciale Farmacie                                                1\n",
       "Non Alimentare;Tabella speciale Carburanti;Alimentare                                   1\n",
       "Non Alimentare;Alimentare;Tabella speciale Monopolio                                    1\n",
       "Non Alimentare;Alimentare;Tabella speciale Carburanti                                   1\n",
       "Alimentare;Non Alimentare;Tabella speciale Monopolio;Tabella speciale Carburanti        1\n",
       "non alimentare;Alimentare                                                               1\n",
       " automobili                                                                             1\n",
       "foglio 216 part. 83 sub. 716 (z.d. 8)                                                   1\n",
       "Alimentare;Non Alimentare;Tabella speciale Carburanti;Tabella speciale Monopolio        1\n",
       "Name: count, dtype: int64"
      ]
     },
     "execution_count": 17,
     "metadata": {},
     "output_type": "execute_result"
    }
   ],
   "source": [
    "df['Settore Merceologico'].value_counts()"
   ]
  },
  {
   "cell_type": "code",
   "execution_count": 18,
   "metadata": {},
   "outputs": [],
   "source": [
    "import efficient_apriori\n",
    "\n",
    "\n",
    "def rules(store_data, support, confidence):\n",
    "\n",
    "    #every tuple is a record, the index of the column is also stored\n",
    "    records = []\n",
    "    for i in range(0, len(store_data)):\n",
    "        records.append([(str(store_data.values[i,j]), j) for j in range(0, len(store_data.columns))])\n",
    "\n",
    "    #find the rules using apriori algorithm\n",
    "    itemset, rules = efficient_apriori.apriori(records, min_support=support, min_confidence=confidence)\n",
    "    print(rules)\n",
    "    return rules"
   ]
  },
  {
   "cell_type": "code",
   "execution_count": 19,
   "metadata": {},
   "outputs": [
    {
     "data": {
      "text/plain": [
       "Index(['Settore Merceologico', 'Insegna', 'Ubicazione', 'Tipo via', 'Via',\n",
       "       'Civico', 'Codice via', 'ZD', 'Settore Storico Cf Preval',\n",
       "       'Superficie Vendita', 'Superficie Altri Usi',\n",
       "       'Superficie Tabelle Speciali', 'Superficie Totale'],\n",
       "      dtype='object')"
      ]
     },
     "execution_count": 19,
     "metadata": {},
     "output_type": "execute_result"
    }
   ],
   "source": [
    "df.columns"
   ]
  },
  {
   "cell_type": "code",
   "execution_count": 20,
   "metadata": {},
   "outputs": [
    {
     "name": "stdout",
     "output_type": "stream",
     "text": [
      "[{('Non Alimentare', 0)} -> {('COMMERCIO AL DETTAGLIO', 1)}, {('COMMERCIO AL DETTAGLIO', 1)} -> {('Non Alimentare', 0)}, {('non alimentare', 0)} -> {('abbigliamento', 1)}, {('abbigliamento', 1)} -> {('non alimentare', 0)}, {('non alimentare', 0)} -> {('accessori e ricambi auto-moto', 1)}, {('accessori e ricambi auto-moto', 1)} -> {('non alimentare', 0)}, {('macelleria', 1)} -> {('alimentare', 0)}, {('alimentare', 0)} -> {('macelleria', 1)}, {('panetteria', 1)} -> {('alimentare', 0)}, {('alimentare', 0)} -> {('panetteria', 1)}, {('panificio (con forno)', 1)} -> {('alimentare', 0)}, {('alimentare', 0)} -> {('panificio (con forno)', 1)}, {('non alimentare', 0)} -> {(\"antichita' e oggetti d'arte,an\", 1)}, {(\"antichita' e oggetti d'arte,an\", 1)} -> {('non alimentare', 0)}, {('non alimentare', 0)} -> {('articoli regalo', 1)}, {('articoli regalo', 1)} -> {('non alimentare', 0)}, {('non alimentare', 0)} -> {('autoveicoli', 1)}, {('autoveicoli', 1)} -> {('non alimentare', 0)}, {('tabella speciale monopolio', 0)} -> {('bar tabacchi', 1)}, {('bar tabacchi', 1)} -> {('tabella speciale monopolio', 0)}, {('non alimentare', 0)} -> {('calzature', 1)}, {('calzature', 1)} -> {('non alimentare', 0)}, {('non alimentare', 0)} -> {('cartoleria cancelleria', 1)}, {('cartoleria cancelleria', 1)} -> {('non alimentare', 0)}, {('non alimentare', 0)} -> {('cine-foto-ottica-art.scientifi', 1)}, {('cine-foto-ottica-art.scientifi', 1)} -> {('non alimentare', 0)}, {('non alimentare', 0)} -> {(\"elettricita' e idraulica\", 1)}, {(\"elettricita' e idraulica\", 1)} -> {('non alimentare', 0)}, {('tabella speciale farmacie', 0)} -> {('farmacia (articoli sussidiari)', 1)}, {('farmacia (articoli sussidiari)', 1)} -> {('tabella speciale farmacie', 0)}, {('non alimentare', 0)} -> {('gioielleria - orologeria', 1)}, {('gioielleria - orologeria', 1)} -> {('non alimentare', 0)}, {('non alimentare', 0)} -> {('gioielleria e oreficeria', 1)}, {('gioielleria e oreficeria', 1)} -> {('non alimentare', 0)}, {('non alimentare', 0)} -> {('libreria', 1)}, {('libreria', 1)} -> {('non alimentare', 0)}, {('non alimentare', 0)} -> {('mobili', 1)}, {('mobili', 1)} -> {('non alimentare', 0)}, {('profumeria', 1)} -> {('non alimentare', 0)}, {('non alimentare', 0)} -> {('profumeria', 1)}, {('programmazione e sistemi informatici  -computer', 1)} -> {('non alimentare', 0)}, {('non alimentare', 0)} -> {('programmazione e sistemi informatici  -computer', 1)}, {('radio tv, elettrodom,app.radio', 1)} -> {('non alimentare', 0)}, {('non alimentare', 0)} -> {('radio tv, elettrodom,app.radio', 1)}, {('telefoni', 1)} -> {('non alimentare', 0)}, {('non alimentare', 0)} -> {('telefoni', 1)}]\n"
     ]
    },
    {
     "data": {
      "text/plain": [
       "[{('Non Alimentare', 0)} -> {('COMMERCIO AL DETTAGLIO', 1)},\n",
       " {('COMMERCIO AL DETTAGLIO', 1)} -> {('Non Alimentare', 0)},\n",
       " {('non alimentare', 0)} -> {('abbigliamento', 1)},\n",
       " {('abbigliamento', 1)} -> {('non alimentare', 0)},\n",
       " {('non alimentare', 0)} -> {('accessori e ricambi auto-moto', 1)},\n",
       " {('accessori e ricambi auto-moto', 1)} -> {('non alimentare', 0)},\n",
       " {('macelleria', 1)} -> {('alimentare', 0)},\n",
       " {('alimentare', 0)} -> {('macelleria', 1)},\n",
       " {('panetteria', 1)} -> {('alimentare', 0)},\n",
       " {('alimentare', 0)} -> {('panetteria', 1)},\n",
       " {('panificio (con forno)', 1)} -> {('alimentare', 0)},\n",
       " {('alimentare', 0)} -> {('panificio (con forno)', 1)},\n",
       " {('non alimentare', 0)} -> {(\"antichita' e oggetti d'arte,an\", 1)},\n",
       " {(\"antichita' e oggetti d'arte,an\", 1)} -> {('non alimentare', 0)},\n",
       " {('non alimentare', 0)} -> {('articoli regalo', 1)},\n",
       " {('articoli regalo', 1)} -> {('non alimentare', 0)},\n",
       " {('non alimentare', 0)} -> {('autoveicoli', 1)},\n",
       " {('autoveicoli', 1)} -> {('non alimentare', 0)},\n",
       " {('tabella speciale monopolio', 0)} -> {('bar tabacchi', 1)},\n",
       " {('bar tabacchi', 1)} -> {('tabella speciale monopolio', 0)},\n",
       " {('non alimentare', 0)} -> {('calzature', 1)},\n",
       " {('calzature', 1)} -> {('non alimentare', 0)},\n",
       " {('non alimentare', 0)} -> {('cartoleria cancelleria', 1)},\n",
       " {('cartoleria cancelleria', 1)} -> {('non alimentare', 0)},\n",
       " {('non alimentare', 0)} -> {('cine-foto-ottica-art.scientifi', 1)},\n",
       " {('cine-foto-ottica-art.scientifi', 1)} -> {('non alimentare', 0)},\n",
       " {('non alimentare', 0)} -> {(\"elettricita' e idraulica\", 1)},\n",
       " {(\"elettricita' e idraulica\", 1)} -> {('non alimentare', 0)},\n",
       " {('tabella speciale farmacie', 0)} -> {('farmacia (articoli sussidiari)', 1)},\n",
       " {('farmacia (articoli sussidiari)', 1)} -> {('tabella speciale farmacie', 0)},\n",
       " {('non alimentare', 0)} -> {('gioielleria - orologeria', 1)},\n",
       " {('gioielleria - orologeria', 1)} -> {('non alimentare', 0)},\n",
       " {('non alimentare', 0)} -> {('gioielleria e oreficeria', 1)},\n",
       " {('gioielleria e oreficeria', 1)} -> {('non alimentare', 0)},\n",
       " {('non alimentare', 0)} -> {('libreria', 1)},\n",
       " {('libreria', 1)} -> {('non alimentare', 0)},\n",
       " {('non alimentare', 0)} -> {('mobili', 1)},\n",
       " {('mobili', 1)} -> {('non alimentare', 0)},\n",
       " {('profumeria', 1)} -> {('non alimentare', 0)},\n",
       " {('non alimentare', 0)} -> {('profumeria', 1)},\n",
       " {('programmazione e sistemi informatici  -computer', 1)} -> {('non alimentare', 0)},\n",
       " {('non alimentare', 0)} -> {('programmazione e sistemi informatici  -computer', 1)},\n",
       " {('radio tv, elettrodom,app.radio', 1)} -> {('non alimentare', 0)},\n",
       " {('non alimentare', 0)} -> {('radio tv, elettrodom,app.radio', 1)},\n",
       " {('telefoni', 1)} -> {('non alimentare', 0)},\n",
       " {('non alimentare', 0)} -> {('telefoni', 1)}]"
      ]
     },
     "execution_count": 20,
     "metadata": {},
     "output_type": "execute_result"
    }
   ],
   "source": [
    "transactions = df[['Settore Merceologico','Settore Storico Cf Preval']]\n",
    "rules(transactions,0.01,0.01)"
   ]
  },
  {
   "cell_type": "code",
   "execution_count": 26,
   "metadata": {},
   "outputs": [],
   "source": [
    "# import tane\n",
    "\n",
    "# tane.compute()"
   ]
  },
  {
   "cell_type": "markdown",
   "metadata": {},
   "source": [
    "## DQ ASSESMENT"
   ]
  },
  {
   "cell_type": "markdown",
   "metadata": {},
   "source": [
    "The 4 main dimensions to evaluate are:\n",
    "- completeness\n",
    "- accuracy (can't evaluate since there's no ground truth)\n",
    "- timeliness\n",
    "- consistency"
   ]
  },
  {
   "cell_type": "markdown",
   "metadata": {},
   "source": [
    "**TODO** every interesting and meaningful measure can be added"
   ]
  },
  {
   "cell_type": "markdown",
   "metadata": {},
   "source": [
    "The following are the measures computed by the T.A. for a similar case study"
   ]
  },
  {
   "cell_type": "code",
   "execution_count": 17,
   "metadata": {},
   "outputs": [
    {
     "name": "stdout",
     "output_type": "stream",
     "text": [
      "DQ Assessment for Settore Merceologico:\n",
      "UNIQUENESS:  0.002320185614849188\n",
      "DISTINCTNESS:  0.002330323332362365\n",
      "CONSTANCY:  0.6853231242977821\n",
      "COMPLETENESS:  0.8211544835674766\n",
      "\n",
      "\n",
      "\n",
      "DQ Assessment for Insegna:\n",
      "UNIQUENESS:  0.23131421942326816\n",
      "DISTINCTNESS:  0.7988267277149806\n",
      "CONSTANCY:  0.02375160967234225\n",
      "COMPLETENESS:  0.8211544835674766\n",
      "\n",
      "\n",
      "\n",
      "DQ Assessment for Ubicazione:\n",
      "UNIQUENESS:  0.7004888962545575\n",
      "DISTINCTNESS:  0.7005179200331468\n",
      "CONSTANCY:  0.0009529728609902631\n",
      "COMPLETENESS:  0.8211544835674766\n",
      "\n",
      "\n",
      "\n",
      "DQ Assessment for Tipo via:\n",
      "UNIQUENESS:  0.0008286377195889957\n",
      "DISTINCTNESS:  0.0008287063893262617\n",
      "CONSTANCY:  0.7201044170050551\n",
      "COMPLETENESS:  0.8211544835674766\n",
      "\n",
      "\n",
      "\n",
      "DQ Assessment for Via:\n",
      "UNIQUENESS:  0.09657772621809745\n",
      "DISTINCTNESS:  0.09658172778123057\n",
      "CONSTANCY:  0.012140045576962917\n",
      "COMPLETENESS:  0.8211544835674766\n",
      "\n",
      "\n",
      "\n",
      "DQ Assessment for Civico:\n",
      "UNIQUENESS:  0.015992707988067616\n",
      "DISTINCTNESS:  0.01643532317125096\n",
      "CONSTANCY:  0.06403815038746487\n",
      "COMPLETENESS:  0.8211544835674766\n",
      "\n",
      "\n",
      "\n",
      "DQ Assessment for Codice via:\n",
      "UNIQUENESS:  0.0972820682797481\n",
      "DISTINCTNESS:  0.09729013010690313\n",
      "CONSTANCY:  0.012140548603629734\n",
      "COMPLETENESS:  0.8211544835674766\n",
      "\n",
      "\n",
      "\n",
      "DQ Assessment for ZD:\n",
      "UNIQUENESS:  0.00041431885979449786\n",
      "DISTINCTNESS:  0.00041435319466313084\n",
      "CONSTANCY:  0.2375072511809066\n",
      "COMPLETENESS:  0.8211544835674766\n",
      "\n",
      "\n",
      "\n",
      "DQ Assessment for Settore Storico Cf Preval:\n",
      "UNIQUENESS:  0.09231024196221412\n",
      "DISTINCTNESS:  0.09243662614612289\n",
      "CONSTANCY:  0.08973986640667136\n",
      "COMPLETENESS:  0.8211544835674766\n",
      "\n",
      "\n",
      "\n",
      "DQ Assessment for Superficie Vendita:\n",
      "UNIQUENESS:  0.010357971494862447\n",
      "DISTINCTNESS:  0.010370862026051605\n",
      "CONSTANCY:  0.05164689288973699\n",
      "COMPLETENESS:  0.8211544835674766\n",
      "\n",
      "\n",
      "\n",
      "DQ Assessment for Superficie Altri Usi:\n",
      "UNIQUENESS:  0.018147166058999006\n",
      "DISTINCTNESS:  0.048462049125912815\n",
      "CONSTANCY:  0.06461606550121708\n",
      "COMPLETENESS:  0.8211544835674766\n",
      "\n",
      "\n",
      "\n",
      "DQ Assessment for Superficie Tabelle Speciali:\n",
      "UNIQUENESS:  0.004847530659595625\n",
      "DISTINCTNESS:  0.10381543921916593\n",
      "CONSTANCY:  0.09139307897071872\n",
      "COMPLETENESS:  0.8211544835674766\n",
      "\n",
      "\n",
      "\n",
      "DQ Assessment for Superficie Totale:\n",
      "UNIQUENESS:  0.02659927079880676\n",
      "DISTINCTNESS:  0.026639004149377594\n",
      "CONSTANCY:  0.04261410788381743\n",
      "COMPLETENESS:  0.8211544835674766\n",
      "\n",
      "\n",
      "\n"
     ]
    }
   ],
   "source": [
    "# put as many measures you can compute and that are reasonable\n",
    "for col in df.columns:\n",
    "    print(\"DQ Assessment for \"+col+\":\")\n",
    "\n",
    "    DISTINCT = df[col].nunique()\n",
    "    COUNT = df[col].count()\n",
    "    ROWS = len(df[col])\n",
    "    UNIQUENESS = DISTINCT / ROWS\n",
    "    print(\"UNIQUENESS: \", UNIQUENESS)\n",
    "\n",
    "    DISTINCTNESS = DISTINCT / COUNT\n",
    "    print(\"DISTINCTNESS: \", DISTINCTNESS)\n",
    "\n",
    "    MAX_COUNTS = max(df[col].value_counts())\n",
    "    CONSTANCY = MAX_COUNTS / COUNT\n",
    "    print(\"CONSTANCY: \", CONSTANCY)\n",
    "\n",
    "    NOT_NULL = df.count().sum()\n",
    "    NULL = df.isnull().sum().sum()\n",
    "    TOT = df.shape[0]*df.shape[1]\n",
    "    COMPLETENESS = NOT_NULL / TOT\n",
    "    print(\"COMPLETENESS: \", COMPLETENESS)\n",
    "\n",
    "    # accuracy is useless since we don't have the ground truth\n",
    "    print(\"\\n\\n\")"
   ]
  },
  {
   "cell_type": "markdown",
   "metadata": {},
   "source": [
    "## DATA WRANGLING"
   ]
  },
  {
   "cell_type": "markdown",
   "metadata": {},
   "source": [
    "## MISSING VALUES HANDLING"
   ]
  },
  {
   "cell_type": "markdown",
   "metadata": {},
   "source": [
    "## OUTLIERS HANDLING"
   ]
  },
  {
   "cell_type": "markdown",
   "metadata": {},
   "source": [
    "## DUPLICATES HANDLING"
   ]
  },
  {
   "cell_type": "markdown",
   "metadata": {},
   "source": [
    "## PERFORMANCE ANALYSIS (optional)"
   ]
  }
 ],
 "metadata": {
  "kernelspec": {
   "display_name": "Python 3",
   "language": "python",
   "name": "python3"
  },
  "language_info": {
   "codemirror_mode": {
    "name": "ipython",
    "version": 3
   },
   "file_extension": ".py",
   "mimetype": "text/x-python",
   "name": "python",
   "nbconvert_exporter": "python",
   "pygments_lexer": "ipython3",
   "version": "3.11.3"
  }
 },
 "nbformat": 4,
 "nbformat_minor": 2
}
